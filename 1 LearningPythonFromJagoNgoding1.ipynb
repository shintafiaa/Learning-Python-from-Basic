{
  "nbformat": 4,
  "nbformat_minor": 0,
  "metadata": {
    "colab": {
      "name": "LearningPythonFromJagoNgoding1.ipynb",
      "provenance": [],
      "authorship_tag": "ABX9TyNg9K8qpo8CM8aG29HWClc0",
      "include_colab_link": true
    },
    "kernelspec": {
      "name": "python3",
      "display_name": "Python 3"
    },
    "language_info": {
      "name": "python"
    }
  },
  "cells": [
    {
      "cell_type": "markdown",
      "metadata": {
        "id": "view-in-github",
        "colab_type": "text"
      },
      "source": [
        "<a href=\"https://colab.research.google.com/github/shintafiaa/Learning-Python-from-Basic/blob/main/1%20LearningPythonFromJagoNgoding1.ipynb\" target=\"_parent\"><img src=\"https://colab.research.google.com/assets/colab-badge.svg\" alt=\"Open In Colab\"/></a>"
      ]
    },
    {
      "cell_type": "code",
      "execution_count": 1,
      "metadata": {
        "colab": {
          "base_uri": "https://localhost:8080/"
        },
        "id": "_jw_CjNri00J",
        "outputId": "87d1ded9-5ecf-4380-ab3e-65efe5948d2d"
      },
      "outputs": [
        {
          "output_type": "stream",
          "name": "stdout",
          "text": [
            "merah 2 bulan\n",
            "hitam 3 bulan\n"
          ]
        }
      ],
      "source": [
        "#merepresentasikan 2 ekor kucing dengan pendekatan OOP\n",
        "class kucing:\n",
        "  warna = None\n",
        "  usia = None\n",
        "\n",
        "#membangun instance/variabel sebagai \"objek nyata\"\n",
        "kucing1 = kucing()\n",
        "kucing1.warna = \"merah\"\n",
        "kucing1.usia = \"2 bulan\"\n",
        "\n",
        "kucing2 = kucing()\n",
        "kucing2.warna = \"hitam\"\n",
        "kucing2.usia = \"3 bulan\"\n",
        "\n",
        "#menampilkan masing-masing atribut dari tiap instance\n",
        "print(kucing1.warna, kucing1.usia)\n",
        "print(kucing2.warna, kucing2.usia) "
      ]
    },
    {
      "cell_type": "markdown",
      "source": [
        "#**Contoh Perilaku**\n",
        "\n",
        "Misalkan kita memiliki kelas Mahasiswa. Setiap mahasiswa memiliki atribut:\n",
        "1.   Nama\n",
        "2.   Asal\n",
        "\n",
        "\n",
        "Serta memiliki perilaku:\n",
        "1. memperkenalkan diri"
      ],
      "metadata": {
        "id": "jhAYmi7Hi5z1"
      }
    },
    {
      "cell_type": "code",
      "source": [
        "class Mahasiswa: \n",
        "  nama = None\n",
        "  asal = None\n",
        "\n",
        "  def memperkenalkanDiri(self):\n",
        "    print(f'Nama saya {self.nama} berasal dari daerah {self.asal}')\n",
        "\n",
        "mahasiswa1 = Mahasiswa()\n",
        "mahasiswa1.nama = \"Fia\"\n",
        "mahasiswa1.asal = \"Demak\"\n",
        "\n",
        "mahasiswa1.memperkenalkanDiri()"
      ],
      "metadata": {
        "colab": {
          "base_uri": "https://localhost:8080/"
        },
        "id": "52khFtEdi6bH",
        "outputId": "1acc5117-d9ab-4a03-92a8-2055c0aac18e"
      },
      "execution_count": 2,
      "outputs": [
        {
          "output_type": "stream",
          "name": "stdout",
          "text": [
            "Nama saya Fia berasal dari daerah Demak\n"
          ]
        }
      ]
    },
    {
      "cell_type": "markdown",
      "source": [
        "Kita dapati ada sebuah parameter pada fungsi memperkenalkanDiri, yaitu parameter self.\n",
        "\n",
        "Tetapi ketika kita memanggil fungsi tersebut dari instance yang kita buat, kita tidak melemparkan parameter apa pun.\n",
        "\n",
        "Ini lah bedanya fungsi yang ada di luar kelas dan fungsi yang ada di dalam kelas.\n",
        "\n",
        "Jadi ketika kita memanggil sebuah fungsi yang berada pada kelas tertentu, interpreter python akan otomatis **melemparkan self sebagai parameter pertama.** Dan **dari paramter self ini kita bisa mendapatkan akses secara internal terhadap atribut dan perilaku dari objek yang kita buat.**"
      ],
      "metadata": {
        "id": "0e1fXIgmi9Ew"
      }
    },
    {
      "cell_type": "markdown",
      "source": [
        "#**Konstruktor**\n",
        "\n",
        "Konstruktor adalah sebuah fungsi yang akan dipanggil pertama kali saat sebuah objek di-instantiasi-kan.\n",
        "\n",
        "Fungsi tersebut harus selalu bernama \\_\\_init\\__()."
      ],
      "metadata": {
        "id": "pqFBjY41i_F8"
      }
    },
    {
      "cell_type": "code",
      "source": [
        "class Mahasiswa:\n",
        "  def __init__(self, nama, usia):\n",
        "    self.nama = nama\n",
        "    self.usia = usia\n",
        "\n",
        "  def memperkenalkanDiri(self):\n",
        "    print(f'Nama saya {self.nama}. Saya berusia {self.usia} tahun')\n",
        "\n",
        "#membuat instance\n",
        "mahasiswa2 = Mahasiswa(\"Doni\", 9)\n",
        "mahasiswa2.memperkenalkanDiri()"
      ],
      "metadata": {
        "colab": {
          "base_uri": "https://localhost:8080/"
        },
        "id": "WI_ma5fMjArU",
        "outputId": "6c45a4b9-9ed0-4cac-8a2b-0cccd887fe0b"
      },
      "execution_count": 3,
      "outputs": [
        {
          "output_type": "stream",
          "name": "stdout",
          "text": [
            "Nama saya Doni. Saya berusia 9 tahun\n"
          ]
        }
      ]
    },
    {
      "cell_type": "markdown",
      "source": [
        "Ketika membuat instance dari kelas Mahasiswa, kita harus melemparkan dua buah parameter wajib yaitu parameter nama dan parameter usia."
      ],
      "metadata": {
        "id": "NoQ40nCGjCXx"
      }
    },
    {
      "cell_type": "markdown",
      "source": [
        "#**Dokumentasi Kelas**\n",
        "\n",
        "Selain atribut dan perilaku, kelas juga memiliki “deskripsi”. Deskripsi ini didefinisikan dengan menuliskan komentar multi baris yang diletakkan langsung setelah pendefinisian fungsi.\n",
        "\n",
        "Kita bisa menampilkannya dengan mengakses atribut bawaan yang bernama \\_\\_doc\\__."
      ],
      "metadata": {
        "id": "NJKSoRp7jFWX"
      }
    },
    {
      "cell_type": "code",
      "source": [
        "class Mahasiswa():\n",
        "  \"\"\"\n",
        "  Kelas ini digunakan untuk pendefinisian\n",
        "  objek mahasiswa dikehidupan nyata.\n",
        "  \"\"\"\n",
        "\n",
        "print(Mahasiswa().__doc__)"
      ],
      "metadata": {
        "colab": {
          "base_uri": "https://localhost:8080/"
        },
        "id": "Ye1xjaeEjGq8",
        "outputId": "76467562-7ab4-49b5-b46f-d8bb1df75f8a"
      },
      "execution_count": 4,
      "outputs": [
        {
          "output_type": "stream",
          "name": "stdout",
          "text": [
            "\n",
            "  Kelas ini digunakan untuk pendefinisian\n",
            "  objek mahasiswa dikehidupan nyata.\n",
            "  \n"
          ]
        }
      ]
    },
    {
      "cell_type": "markdown",
      "source": [
        "#**Atribut Kelas yang Merupakan Instance dari Kelas Lainnya**\n",
        "\n",
        "Kita juga bisa mendefinisikan sebuah atribut objek yang merupakan instance dari objek yang lainnya.\n",
        "\n",
        "Misal: kita jadikan kelas Mahasiswa memiliki satu ekor kucing."
      ],
      "metadata": {
        "id": "e1mZz41-jIA6"
      }
    },
    {
      "cell_type": "code",
      "source": [
        "class Kucing:\n",
        "  def __init__(self, warna, usia):\n",
        "    self.warna = warna\n",
        "    self.usia = usia\n",
        "\n",
        "class Mahasiswa:\n",
        "  def __init__(self, nama, asal, kucing):\n",
        "    self.nama = nama\n",
        "    self.asal =  asal\n",
        "    self.kucing = kucing\n",
        "\n",
        "  def perkenalan(self):\n",
        "    print(f'Nama saya {self.nama}. Saya berasal dari {self.asal}.')\n",
        "    print(f'Saya punya kucing berwarna {self.kucing.warna} yang berusia {self.kucing.usia}')"
      ],
      "metadata": {
        "id": "Opyo12V3jEhM"
      },
      "execution_count": 5,
      "outputs": []
    },
    {
      "cell_type": "code",
      "source": [
        "mahasiswa1 = Mahasiswa(\n",
        "    nama=\"Shinta\", \n",
        "    asal=\"Demak\",\n",
        "    kucing= Kucing(\n",
        "        warna = \"abu-abu\",\n",
        "        usia = \"5 bulan\"\n",
        "    )\n",
        ")\n",
        "\n",
        "mahasiswa1.perkenalan()"
      ],
      "metadata": {
        "colab": {
          "base_uri": "https://localhost:8080/"
        },
        "id": "Qjqxo712jKcw",
        "outputId": "dd961952-b0ce-4e22-a37c-18e9723ee9c9"
      },
      "execution_count": 6,
      "outputs": [
        {
          "output_type": "stream",
          "name": "stdout",
          "text": [
            "Nama saya Shinta. Saya berasal dari Demak.\n",
            "Saya punya kucing berwarna abu-abu yang berusia 5 bulan\n"
          ]
        }
      ]
    }
  ]
}